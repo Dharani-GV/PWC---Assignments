{
  "nbformat": 4,
  "nbformat_minor": 0,
  "metadata": {
    "colab": {
      "provenance": []
    },
    "kernelspec": {
      "name": "python3",
      "display_name": "Python 3"
    },
    "language_info": {
      "name": "python"
    }
  },
  "cells": [
    {
      "cell_type": "code",
      "execution_count": null,
      "metadata": {
        "id": "QhjYC0f0sPP8"
      },
      "outputs": [],
      "source": []
    },
    {
      "cell_type": "markdown",
      "source": [
        "#Assignment : Python - Data Structure"
      ],
      "metadata": {
        "id": "Y2N-spTmsQPa"
      }
    },
    {
      "cell_type": "markdown",
      "source": [],
      "metadata": {
        "id": "SyASgQWWsfr4"
      }
    },
    {
      "cell_type": "markdown",
      "source": [
        "1. What are data structures, and why are they important?\n",
        "   -\n",
        "   Data structures organize and store data efficiently.\n",
        "   -\n",
        "   They help in optimizing data access, processing, and storage."
      ],
      "metadata": {
        "id": "CX8URuppskF3"
      }
    },
    {
      "cell_type": "markdown",
      "source": [
        "2. Difference between mutable and immutable data types with examples:\n",
        "   -\n",
        "   Mutable types (like lists and dictionaries) can be changed after creation.\n",
        "  -\n",
        "  Immutable types (like strings and tuples) cannot be altered once created."
      ],
      "metadata": {
        "id": "LBGLO8Afsrcn"
      }
    },
    {
      "cell_type": "markdown",
      "source": [
        "3. Main differences between lists and tuples in Python:\n",
        "   -  \n",
        "   Lists are mutable, can be changed, and are generally slower.\n",
        "  -\n",
        "  Tuples are immutable, faster, and used when data shouldn't change."
      ],
      "metadata": {
        "id": "H8bIwmC2sxq3"
      }
    },
    {
      "cell_type": "markdown",
      "source": [],
      "metadata": {
        "id": "QYT7ldZcs25I"
      }
    },
    {
      "cell_type": "markdown",
      "source": [
        "4. How do dictionaries store data?\n",
        "   -\n",
        "   Dictionaries store data as key-value pairs.\n",
        "   -\n",
        "   They use a hash table internally for fast access by key."
      ],
      "metadata": {
        "id": "xWJL9Dhps7QJ"
      }
    },
    {
      "cell_type": "markdown",
      "source": [
        "5. Why use a set instead of a list in Python?\n",
        "   -\n",
        "   Sets automatically eliminate duplicate elements.\n",
        "   -\n",
        "   They also allow faster membership testing than lists."
      ],
      "metadata": {
        "id": "rrkeoBUXtDxX"
      }
    },
    {
      "cell_type": "markdown",
      "source": [
        "6. What is a string in Python, and how is it different from a list?\n",
        "  -\n",
        "  A string is an immutable sequence of characters.\n",
        "   -\n",
        "   Unlike lists, strings cannot be modified after creation."
      ],
      "metadata": {
        "id": "jwNHvu1ftH2m"
      }
    },
    {
      "cell_type": "markdown",
      "source": [
        "7. How do tuples ensure data integrity in Python?\n",
        "   -\n",
        "   Tuples are immutable, so their data can't be changed accidentally.\n",
        "   -\n",
        "   This makes them useful for fixed collections like coordinates."
      ],
      "metadata": {
        "id": "Mz9xbfM7tND_"
      }
    },
    {
      "cell_type": "markdown",
      "source": [
        "8. What is a hash table, and how does it relate to dictionaries in Python?\n",
        "  -\n",
        "  A hash table maps keys to values using hash functions.\n",
        "   -\n",
        "   Python dictionaries are implemented using hash tables."
      ],
      "metadata": {
        "id": "HKc2KwNvtRFQ"
      }
    },
    {
      "cell_type": "markdown",
      "source": [
        "9. Can lists contain different data types in Python?\n",
        "  -\n",
        "  Yes, lists can hold integers, strings, objects, or even other lists.\n",
        "  -\n",
        "  They are versatile and allow mixed data types."
      ],
      "metadata": {
        "id": "M4C1SawmtaP4"
      }
    },
    {
      "cell_type": "markdown",
      "source": [
        "10. Why are strings immutable in Python?\n",
        "  -\n",
        "  Strings are immutable to enhance performance and memory efficiency.\n",
        "   -\n",
        "   This also makes them safer for use in shared or multithreaded environments."
      ],
      "metadata": {
        "id": "BiX3aiVetenA"
      }
    },
    {
      "cell_type": "markdown",
      "source": [
        "11. Advantages of dictionaries over lists:\n",
        "   -\n",
        "   Dictionaries allow fast access using keys, not indexes.\n",
        "   -\n",
        "   They're ideal for structured data like user profiles or settings."
      ],
      "metadata": {
        "id": "tSePCEkztyuA"
      }
    },
    {
      "cell_type": "markdown",
      "source": [
        "12. When to use a tuple instead of a list:\n",
        "   -\n",
        "   Use a tuple when data should not change throughout the program.\n",
        "   -\n",
        "   They’re also slightly faster and can be used as dictionary keys."
      ],
      "metadata": {
        "id": "lE-dYgGIt28P"
      }
    },
    {
      "cell_type": "markdown",
      "source": [
        "13. How do sets handle duplicates in Python?\n",
        "   -\n",
        "   Sets only store unique elements.\n",
        "   -\n",
        "   Any duplicate item added is automatically ignored"
      ],
      "metadata": {
        "id": "NXdTh0FBt70A"
      }
    },
    {
      "cell_type": "markdown",
      "source": [
        "14. “in” keyword: lists vs. dictionaries:\n",
        "   -\n",
        "   In a list, it checks for the presence of a value.\n",
        "   -\n",
        "   In a dictionary, it checks for the presence of a key."
      ],
      "metadata": {
        "id": "qW0Lvxaft_wg"
      }
    },
    {
      "cell_type": "markdown",
      "source": [
        "15. Can you modify tuple elements? Why or why not?\n",
        "    -\n",
        "    No, tuples are immutable and cannot be changed.\n",
        "    -\n",
        "    This helps protect data from accidental modifications."
      ],
      "metadata": {
        "id": "ccxNzsxiuDoK"
      }
    },
    {
      "cell_type": "markdown",
      "source": [
        "16. What is a nested dictionary? Example use case:\n",
        "    -\n",
        "    A nested dictionary is a dictionary inside another dictionary.\n",
        "    -\n",
        "    Example: { \"student1\": {\"math\": 90, \"science\": 85} }"
      ],
      "metadata": {
        "id": "IK_qw6couHbW"
      }
    },
    {
      "cell_type": "markdown",
      "source": [
        "17. Time complexity of accessing elements in a dictionary:\n",
        "    -\n",
        "    Accessing elements by key in a dictionary is O(1) on average.\n",
        "    -\n",
        "    This means it’s very fast and efficient for lookups."
      ],
      "metadata": {
        "id": "NK7EPMCIuLy_"
      }
    },
    {
      "cell_type": "markdown",
      "source": [
        "18. When are lists preferred over dictionaries?\n",
        "   -\n",
        "   Use lists when order is important or data doesn’t need keys.\n",
        "  -\n",
        "  They’re also simpler when storing just values."
      ],
      "metadata": {
        "id": "TQrrgkJwuWSQ"
      }
    },
    {
      "cell_type": "markdown",
      "source": [
        "19. Why are dictionaries considered unordered, and how does that affect data retrieval?\n",
        "  -\n",
        "  Before Python 3.7, dicts didn’t preserve insertion order.\n",
        "  -\n",
        "  So the retrieval order could be unpredictable."
      ],
      "metadata": {
        "id": "fVE02Ex2uaqS"
      }
    },
    {
      "cell_type": "markdown",
      "source": [
        "20. List vs. dictionary in data retrieval:\n",
        "   -\n",
        "   Lists retrieve data by index, while dictionaries use keys.\n",
        "  -\n",
        "  Dictionaries are faster for lookups if keys are known."
      ],
      "metadata": {
        "id": "akB8tX-tugmy"
      }
    },
    {
      "cell_type": "markdown",
      "source": [
        "1. Create a string with your name and print it:"
      ],
      "metadata": {
        "id": "O7mAWliuu9fI"
      }
    },
    {
      "cell_type": "code",
      "source": [
        "name = \"Amanda\"\n",
        "print(name)\n"
      ],
      "metadata": {
        "colab": {
          "base_uri": "https://localhost:8080/"
        },
        "id": "T2OtnmokupSZ",
        "outputId": "79575b45-dabe-45c7-9899-d54ae4d2dd29"
      },
      "execution_count": 3,
      "outputs": [
        {
          "output_type": "stream",
          "name": "stdout",
          "text": [
            "Amanda\n"
          ]
        }
      ]
    },
    {
      "cell_type": "markdown",
      "source": [
        "2. Find the length of the string \"Hello World\":"
      ],
      "metadata": {
        "id": "JpxrMNojvA9S"
      }
    },
    {
      "cell_type": "code",
      "source": [
        "text = \"Hello World\"\n",
        "print(len(text))"
      ],
      "metadata": {
        "colab": {
          "base_uri": "https://localhost:8080/"
        },
        "id": "enF_ODLHvAVn",
        "outputId": "f377d787-94c9-4b80-f7c9-df26af22f857"
      },
      "execution_count": 4,
      "outputs": [
        {
          "output_type": "stream",
          "name": "stdout",
          "text": [
            "11\n"
          ]
        }
      ]
    },
    {
      "cell_type": "markdown",
      "source": [
        "3. Slice the first 3 characters from the string \"Python Programming\":"
      ],
      "metadata": {
        "id": "EriWyTTKvFjv"
      }
    },
    {
      "cell_type": "markdown",
      "source": [],
      "metadata": {
        "id": "fFk0ORFbti3_"
      }
    },
    {
      "cell_type": "code",
      "source": [
        "s = \"Python Programming\"\n",
        "print(s[:3])\n"
      ],
      "metadata": {
        "colab": {
          "base_uri": "https://localhost:8080/"
        },
        "id": "GYe3vBPlvHpw",
        "outputId": "9a5339a8-4e01-4f2e-9b45-e72ef58f6f34"
      },
      "execution_count": 5,
      "outputs": [
        {
          "output_type": "stream",
          "name": "stdout",
          "text": [
            "Pyt\n"
          ]
        }
      ]
    },
    {
      "cell_type": "markdown",
      "source": [
        "4. Convert the string \"hello\" to uppercase:"
      ],
      "metadata": {
        "id": "zzXqR8_JvJeH"
      }
    },
    {
      "cell_type": "code",
      "source": [
        "word = \"hello\"\n",
        "print(word.upper())\n"
      ],
      "metadata": {
        "colab": {
          "base_uri": "https://localhost:8080/"
        },
        "id": "izFskr-GvLKf",
        "outputId": "38143dd3-cff6-45ab-aa81-3f7e5c64e9a5"
      },
      "execution_count": 6,
      "outputs": [
        {
          "output_type": "stream",
          "name": "stdout",
          "text": [
            "HELLO\n"
          ]
        }
      ]
    },
    {
      "cell_type": "markdown",
      "source": [
        "5. Replace the word \"apple\" with \"orange\" in the string \"I like apple\":"
      ],
      "metadata": {
        "id": "by9y_gWYvNIY"
      }
    },
    {
      "cell_type": "code",
      "source": [
        "sentence = \"I like apple\"\n",
        "print(sentence.replace(\"apple\", \"orange\"))\n"
      ],
      "metadata": {
        "colab": {
          "base_uri": "https://localhost:8080/"
        },
        "id": "lTzn_j8pvQDX",
        "outputId": "52f3afcf-cb80-43ac-9122-053d6b6e7383"
      },
      "execution_count": 7,
      "outputs": [
        {
          "output_type": "stream",
          "name": "stdout",
          "text": [
            "I like orange\n"
          ]
        }
      ]
    },
    {
      "cell_type": "markdown",
      "source": [
        "6. Create a list with numbers 1 to 5 and print it:"
      ],
      "metadata": {
        "id": "jS5MCBsOvSXf"
      }
    },
    {
      "cell_type": "code",
      "source": [
        "numbers = [1, 2, 3, 4, 5]\n",
        "print(numbers)\n"
      ],
      "metadata": {
        "colab": {
          "base_uri": "https://localhost:8080/"
        },
        "id": "fHcZo6yNvUMq",
        "outputId": "1c83aec7-06b2-4c23-ce3b-8e5ced84602b"
      },
      "execution_count": 8,
      "outputs": [
        {
          "output_type": "stream",
          "name": "stdout",
          "text": [
            "[1, 2, 3, 4, 5]\n"
          ]
        }
      ]
    },
    {
      "cell_type": "markdown",
      "source": [
        "7. Append the number 10 to the list [1, 2, 3, 4]:"
      ],
      "metadata": {
        "id": "pl4B0zOcvXg3"
      }
    },
    {
      "cell_type": "code",
      "source": [
        "lst = [1, 2, 3, 4]\n",
        "lst.append(10)\n",
        "print(lst)\n"
      ],
      "metadata": {
        "colab": {
          "base_uri": "https://localhost:8080/"
        },
        "id": "A7xIiCKBvaAf",
        "outputId": "ba0804ad-d515-41cf-ed68-b183918feca0"
      },
      "execution_count": 9,
      "outputs": [
        {
          "output_type": "stream",
          "name": "stdout",
          "text": [
            "[1, 2, 3, 4, 10]\n"
          ]
        }
      ]
    },
    {
      "cell_type": "markdown",
      "source": [
        "8. Remove the number 3 from the list [1, 2, 3, 4, 5]:"
      ],
      "metadata": {
        "id": "oa58iJRJvcWY"
      }
    },
    {
      "cell_type": "code",
      "source": [
        "lst = [1, 2, 3, 4, 5]\n",
        "lst.remove(3)\n",
        "print(lst)\n"
      ],
      "metadata": {
        "colab": {
          "base_uri": "https://localhost:8080/"
        },
        "id": "o-ddYizGvf0a",
        "outputId": "9ff628b7-45ef-41aa-feb8-ddf5597be927"
      },
      "execution_count": 10,
      "outputs": [
        {
          "output_type": "stream",
          "name": "stdout",
          "text": [
            "[1, 2, 4, 5]\n"
          ]
        }
      ]
    },
    {
      "cell_type": "markdown",
      "source": [
        "9. Access the second element in the list ['a', 'b', 'c', 'd']:"
      ],
      "metadata": {
        "id": "nmL_fsslvhg5"
      }
    },
    {
      "cell_type": "code",
      "source": [
        "letters = ['a', 'b', 'c', 'd']\n",
        "print(letters[1])\n"
      ],
      "metadata": {
        "colab": {
          "base_uri": "https://localhost:8080/"
        },
        "id": "-8MHYCdEvjHq",
        "outputId": "502f2a8f-6e92-4c26-f435-529d86c0c27b"
      },
      "execution_count": 11,
      "outputs": [
        {
          "output_type": "stream",
          "name": "stdout",
          "text": [
            "b\n"
          ]
        }
      ]
    },
    {
      "cell_type": "markdown",
      "source": [
        "10. Reverse the list [10, 20, 30, 40, 50]:"
      ],
      "metadata": {
        "id": "uJKexk7pvk3_"
      }
    },
    {
      "cell_type": "code",
      "source": [
        "lst = [10, 20, 30, 40, 50]\n",
        "lst.reverse()\n",
        "print(lst)\n"
      ],
      "metadata": {
        "colab": {
          "base_uri": "https://localhost:8080/"
        },
        "id": "DAUBYzL_vmTq",
        "outputId": "2588ce9e-9aef-4670-8c62-b268b13e7d3b"
      },
      "execution_count": 12,
      "outputs": [
        {
          "output_type": "stream",
          "name": "stdout",
          "text": [
            "[50, 40, 30, 20, 10]\n"
          ]
        }
      ]
    },
    {
      "cell_type": "markdown",
      "source": [
        "11. Create a tuple with the elements 100, 200, 300 and print it"
      ],
      "metadata": {
        "id": "9ZkHKn0AvuhZ"
      }
    },
    {
      "cell_type": "code",
      "source": [
        "# Create the tuple\n",
        "my_tuple = (100, 200, 300)\n",
        "# Print the tuple\n",
        "print(my_tuple)\n"
      ],
      "metadata": {
        "colab": {
          "base_uri": "https://localhost:8080/"
        },
        "id": "IvvXUZh7vu-f",
        "outputId": "e63a3c0b-d17b-475c-aab1-04ac77f0bb0f"
      },
      "execution_count": 13,
      "outputs": [
        {
          "output_type": "stream",
          "name": "stdout",
          "text": [
            "(100, 200, 300)\n"
          ]
        }
      ]
    },
    {
      "cell_type": "markdown",
      "source": [
        "12. Access the second-to-last element of the tuple ('red', 'green', 'blue', 'yellow'"
      ],
      "metadata": {
        "id": "obvBCL3vvwQR"
      }
    },
    {
      "cell_type": "code",
      "source": [
        "# Define the tuple\n",
        "colors = ('red', 'green', 'blue', 'yellow')\n",
        "# Access second-to-last using negative indexing\n",
        "print(colors[-2])\n"
      ],
      "metadata": {
        "colab": {
          "base_uri": "https://localhost:8080/"
        },
        "id": "l3n1Z8Lvvy5h",
        "outputId": "b301fde3-6d04-439a-dba3-4d500f735667"
      },
      "execution_count": 14,
      "outputs": [
        {
          "output_type": "stream",
          "name": "stdout",
          "text": [
            "blue\n"
          ]
        }
      ]
    },
    {
      "cell_type": "markdown",
      "source": [
        "13. Find the minimum number in the tuple (10, 20, 5, 15)"
      ],
      "metadata": {
        "id": "NesVWlFMv1Cy"
      }
    },
    {
      "cell_type": "code",
      "source": [
        "# Define the tuple\n",
        "numbers = (10, 20, 5, 15)\n",
        "# Use min() function to find the smallest number\n",
        "print(min(numbers))\n"
      ],
      "metadata": {
        "colab": {
          "base_uri": "https://localhost:8080/"
        },
        "id": "sFlB6eGLv2qn",
        "outputId": "2ec4c924-6de4-484a-ce0b-e553d992b045"
      },
      "execution_count": 15,
      "outputs": [
        {
          "output_type": "stream",
          "name": "stdout",
          "text": [
            "5\n"
          ]
        }
      ]
    },
    {
      "cell_type": "markdown",
      "source": [
        "14. Find the index of the element \"cat\" in the tuple ('dog', 'cat', 'rabbit')"
      ],
      "metadata": {
        "id": "IyXOIWMTv5US"
      }
    },
    {
      "cell_type": "code",
      "source": [
        "# Define the tuple\n",
        "animals = ('dog', 'cat', 'rabbit')\n",
        "# Use index() to find the position of \"cat\"\n",
        "print(animals.index('cat'))\n"
      ],
      "metadata": {
        "colab": {
          "base_uri": "https://localhost:8080/"
        },
        "id": "a6aij2uXv645",
        "outputId": "599fd750-2011-4f95-e010-b6c09ebc079a"
      },
      "execution_count": 16,
      "outputs": [
        {
          "output_type": "stream",
          "name": "stdout",
          "text": [
            "1\n"
          ]
        }
      ]
    },
    {
      "cell_type": "markdown",
      "source": [
        "15. Create a tuple with three fruits and check if \"kiwi\" is in it"
      ],
      "metadata": {
        "id": "zRb0SfTQv8s3"
      }
    },
    {
      "cell_type": "code",
      "source": [
        "# Define the tuple\n",
        "fruits = ('apple', 'banana', 'kiwi')\n",
        "# Check for membership\n",
        "print(\"kiwi\" in fruits)\n"
      ],
      "metadata": {
        "colab": {
          "base_uri": "https://localhost:8080/"
        },
        "id": "axWtXHq1v-Qf",
        "outputId": "31882abc-314b-45c3-be02-81211d999db0"
      },
      "execution_count": 17,
      "outputs": [
        {
          "output_type": "stream",
          "name": "stdout",
          "text": [
            "True\n"
          ]
        }
      ]
    },
    {
      "cell_type": "markdown",
      "source": [
        "16. Create a set with the elements 'a', 'b', 'c' and print it"
      ],
      "metadata": {
        "id": "DVngw066wANg"
      }
    },
    {
      "cell_type": "code",
      "source": [
        "# Create the set\n",
        "letters = {'a', 'b', 'c'}\n",
        "# Print the set\n",
        "print(letters)\n"
      ],
      "metadata": {
        "colab": {
          "base_uri": "https://localhost:8080/"
        },
        "id": "5237TiqVwCPR",
        "outputId": "753b24c6-ccf2-4699-8acd-78637030d280"
      },
      "execution_count": 18,
      "outputs": [
        {
          "output_type": "stream",
          "name": "stdout",
          "text": [
            "{'c', 'b', 'a'}\n"
          ]
        }
      ]
    },
    {
      "cell_type": "markdown",
      "source": [
        "17. Clear all elements from the set {1, 2, 3, 4, 5}"
      ],
      "metadata": {
        "id": "SQ1ON2gCwEbg"
      }
    },
    {
      "cell_type": "code",
      "source": [
        "# Define the set\n",
        "numbers = {1, 2, 3, 4, 5}\n",
        "# Clear the set\n",
        "numbers.clear()\n",
        "# Print the empty set\n",
        "print(numbers)\n"
      ],
      "metadata": {
        "colab": {
          "base_uri": "https://localhost:8080/"
        },
        "id": "Yo9ABB1GwFis",
        "outputId": "eee6b0d4-6e35-4114-b9a7-1cfe35946217"
      },
      "execution_count": 19,
      "outputs": [
        {
          "output_type": "stream",
          "name": "stdout",
          "text": [
            "set()\n"
          ]
        }
      ]
    },
    {
      "cell_type": "markdown",
      "source": [
        "18. Remove the element 4 from the set {1, 2, 3, 4}"
      ],
      "metadata": {
        "id": "PihzwQG3wHb6"
      }
    },
    {
      "cell_type": "code",
      "source": [
        "# Define the set\n",
        "numbers = {1, 2, 3, 4}\n",
        "# Remove element 4\n",
        "numbers.remove(4)\n",
        "# Print the updated set\n",
        "print(numbers)\n"
      ],
      "metadata": {
        "colab": {
          "base_uri": "https://localhost:8080/"
        },
        "id": "YMsH2tW6wIlE",
        "outputId": "78ed9221-630c-4b4b-811c-f4f37a07b79a"
      },
      "execution_count": 20,
      "outputs": [
        {
          "output_type": "stream",
          "name": "stdout",
          "text": [
            "{1, 2, 3}\n"
          ]
        }
      ]
    },
    {
      "cell_type": "markdown",
      "source": [
        "19. Find the union of two sets {1, 2, 3} and {3, 4, 5}"
      ],
      "metadata": {
        "id": "7sE7M6NRwKbQ"
      }
    },
    {
      "cell_type": "code",
      "source": [
        "# Define the sets\n",
        "set1 = {1, 2, 3}\n",
        "set2 = {3, 4, 5}\n",
        "# Find the union using union()\n",
        "print(set1.union(set2))\n"
      ],
      "metadata": {
        "colab": {
          "base_uri": "https://localhost:8080/"
        },
        "id": "h8gyYFAewMFF",
        "outputId": "903b2e7a-3cfe-40c0-8e08-81a83b668485"
      },
      "execution_count": 21,
      "outputs": [
        {
          "output_type": "stream",
          "name": "stdout",
          "text": [
            "{1, 2, 3, 4, 5}\n"
          ]
        }
      ]
    },
    {
      "cell_type": "markdown",
      "source": [
        "20. Find the intersection of two sets {1, 2, 3} and {2, 3, 4}"
      ],
      "metadata": {
        "id": "IH4JMe_3wOF0"
      }
    },
    {
      "cell_type": "code",
      "source": [
        "# Define the sets\n",
        "set1 = {1, 2, 3}\n",
        "set2 = {2, 3, 4}\n",
        "# Find the intersection using intersection()\n",
        "print(set1.intersection(set2))\n"
      ],
      "metadata": {
        "colab": {
          "base_uri": "https://localhost:8080/"
        },
        "id": "JezbctKvwQRn",
        "outputId": "5e578cdf-5147-4d73-a50f-b62a45ab1e67"
      },
      "execution_count": 22,
      "outputs": [
        {
          "output_type": "stream",
          "name": "stdout",
          "text": [
            "{2, 3}\n"
          ]
        }
      ]
    },
    {
      "cell_type": "markdown",
      "source": [
        "21. Create a dictionary with the keys \"name\", \"age\", and \"city\", and print it"
      ],
      "metadata": {
        "id": "dOPWZffJwW4h"
      }
    },
    {
      "cell_type": "code",
      "source": [
        "person = {\"name\": \"Emma\", \"age\": 28, \"city\": \"London\"}\n",
        "print(person)\n"
      ],
      "metadata": {
        "colab": {
          "base_uri": "https://localhost:8080/"
        },
        "id": "6FX4WFyQwYZe",
        "outputId": "fd1fd442-5238-449c-c782-422ec4e5b1ae"
      },
      "execution_count": 23,
      "outputs": [
        {
          "output_type": "stream",
          "name": "stdout",
          "text": [
            "{'name': 'Emma', 'age': 28, 'city': 'London'}\n"
          ]
        }
      ]
    },
    {
      "cell_type": "markdown",
      "source": [
        "22. Add \"country\": \"USA\" to the dictionary {'name': 'John', 'age': 25}"
      ],
      "metadata": {
        "id": "deFJ17rlwZwy"
      }
    },
    {
      "cell_type": "code",
      "source": [
        "person = {'name': 'John', 'age': 25}\n",
        "person[\"country\"] = \"USA\"\n",
        "print(person)\n"
      ],
      "metadata": {
        "colab": {
          "base_uri": "https://localhost:8080/"
        },
        "id": "UmyVRL0Awb1Q",
        "outputId": "dd526daa-fe9c-4254-e536-97c169a6e63b"
      },
      "execution_count": 24,
      "outputs": [
        {
          "output_type": "stream",
          "name": "stdout",
          "text": [
            "{'name': 'John', 'age': 25, 'country': 'USA'}\n"
          ]
        }
      ]
    },
    {
      "cell_type": "markdown",
      "source": [
        "23. Access the value associated with \"name\" in {'name': 'Alice', 'age': 30}"
      ],
      "metadata": {
        "id": "aFhneBLDwdVw"
      }
    },
    {
      "cell_type": "code",
      "source": [
        "data = {'name': 'Alice', 'age': 30}\n",
        "print(data[\"name\"])\n"
      ],
      "metadata": {
        "colab": {
          "base_uri": "https://localhost:8080/"
        },
        "id": "ob2-VzZMwf3v",
        "outputId": "a21dbd51-31ce-4a59-abe3-a4620d41967e"
      },
      "execution_count": 25,
      "outputs": [
        {
          "output_type": "stream",
          "name": "stdout",
          "text": [
            "Alice\n"
          ]
        }
      ]
    },
    {
      "cell_type": "markdown",
      "source": [
        "24. Remove \"age\" from {'name': 'Bob', 'age': 22, 'city': 'New York'}"
      ],
      "metadata": {
        "id": "4QtQVHUFwhb5"
      }
    },
    {
      "cell_type": "code",
      "source": [
        "info = {'name': 'Bob', 'age': 22, 'city': 'New York'}\n",
        "del info[\"age\"]\n",
        "print(info)\n"
      ],
      "metadata": {
        "colab": {
          "base_uri": "https://localhost:8080/"
        },
        "id": "ncXbjlKIwi4R",
        "outputId": "8d25d0c4-864a-46ea-c3d0-5b7bdf0936b6"
      },
      "execution_count": 26,
      "outputs": [
        {
          "output_type": "stream",
          "name": "stdout",
          "text": [
            "{'name': 'Bob', 'city': 'New York'}\n"
          ]
        }
      ]
    },
    {
      "cell_type": "markdown",
      "source": [
        "25. Check if \"city\" exists in {'name': 'Alice', 'city': 'Paris'}"
      ],
      "metadata": {
        "id": "Hj-kYem0wkYn"
      }
    },
    {
      "cell_type": "code",
      "source": [
        "profile = {'name': 'Alice', 'city': 'Paris'}\n",
        "print(\"city\" in profile)\n"
      ],
      "metadata": {
        "colab": {
          "base_uri": "https://localhost:8080/"
        },
        "id": "A2Wt-_7ewlgx",
        "outputId": "ad52c6ee-9af8-4662-e652-397f97b359d8"
      },
      "execution_count": 27,
      "outputs": [
        {
          "output_type": "stream",
          "name": "stdout",
          "text": [
            "True\n"
          ]
        }
      ]
    },
    {
      "cell_type": "markdown",
      "source": [
        "26. Create a list, a tuple, and a dictionary, and print them all"
      ],
      "metadata": {
        "id": "erQzLGkOwnL6"
      }
    },
    {
      "cell_type": "code",
      "source": [
        "my_list = [1, 2, 3]\n",
        "my_tuple = ('a', 'b', 'c')\n",
        "my_dict = {\"x\": 10, \"y\": 20}\n",
        "print(my_list, my_tuple, my_dict)\n"
      ],
      "metadata": {
        "colab": {
          "base_uri": "https://localhost:8080/"
        },
        "id": "dlrZIKDXwpMw",
        "outputId": "86f7000a-a54b-4ea7-b96c-77bc97553364"
      },
      "execution_count": 28,
      "outputs": [
        {
          "output_type": "stream",
          "name": "stdout",
          "text": [
            "[1, 2, 3] ('a', 'b', 'c') {'x': 10, 'y': 20}\n"
          ]
        }
      ]
    },
    {
      "cell_type": "markdown",
      "source": [
        "27. Create a list of 5 random numbers between 1 and 100, sort it, and print"
      ],
      "metadata": {
        "id": "tKVcZ8iWwq0Z"
      }
    },
    {
      "cell_type": "code",
      "source": [
        "import random\n",
        "numbers = random.sample(range(1, 101), 5)\n",
        "numbers.sort()\n",
        "print(numbers)\n"
      ],
      "metadata": {
        "colab": {
          "base_uri": "https://localhost:8080/"
        },
        "id": "n290ATiNwua5",
        "outputId": "b798c1ba-2f23-4bca-87c7-b7d1bcfc2845"
      },
      "execution_count": 29,
      "outputs": [
        {
          "output_type": "stream",
          "name": "stdout",
          "text": [
            "[9, 74, 83, 86, 96]\n"
          ]
        }
      ]
    },
    {
      "cell_type": "markdown",
      "source": [
        "28. Create a list with strings and print the element at index 3"
      ],
      "metadata": {
        "id": "OOfk-9SRwwER"
      }
    },
    {
      "cell_type": "code",
      "source": [
        "words = [\"apple\", \"banana\", \"cherry\", \"date\", \"elderberry\"]\n",
        "print(words[3])\n"
      ],
      "metadata": {
        "colab": {
          "base_uri": "https://localhost:8080/"
        },
        "id": "ajfC0G0Cwxah",
        "outputId": "02a77082-7fc0-4384-9b19-27706be74d75"
      },
      "execution_count": 30,
      "outputs": [
        {
          "output_type": "stream",
          "name": "stdout",
          "text": [
            "date\n"
          ]
        }
      ]
    },
    {
      "cell_type": "markdown",
      "source": [
        "29. Combine two dictionaries and print the result"
      ],
      "metadata": {
        "id": "9DeI-YTGwzHC"
      }
    },
    {
      "cell_type": "code",
      "source": [
        "dict1 = {\"a\": 1, \"b\": 2}\n",
        "dict2 = {\"c\": 3, \"d\": 4}\n",
        "combined = {**dict1, **dict2}\n",
        "print(combined)\n"
      ],
      "metadata": {
        "colab": {
          "base_uri": "https://localhost:8080/"
        },
        "id": "VfvQBbnEw094",
        "outputId": "a43f7c3e-723b-41bf-835a-bb97d44c3720"
      },
      "execution_count": 31,
      "outputs": [
        {
          "output_type": "stream",
          "name": "stdout",
          "text": [
            "{'a': 1, 'b': 2, 'c': 3, 'd': 4}\n"
          ]
        }
      ]
    },
    {
      "cell_type": "markdown",
      "source": [
        "30. Convert a list of strings into a set"
      ],
      "metadata": {
        "id": "5cUC6n7iw28K"
      }
    },
    {
      "cell_type": "code",
      "source": [
        "str_list = [\"apple\", \"banana\", \"cherry\", \"apple\"]\n",
        "unique_set = set(str_list)\n",
        "print(unique_set)\n"
      ],
      "metadata": {
        "id": "Wh0Ex6PAw4GD",
        "outputId": "45e1d8c4-dd7b-4dbb-9779-f3a004ff305e",
        "colab": {
          "base_uri": "https://localhost:8080/"
        }
      },
      "execution_count": 32,
      "outputs": [
        {
          "output_type": "stream",
          "name": "stdout",
          "text": [
            "{'cherry', 'banana', 'apple'}\n"
          ]
        }
      ]
    }
  ]
}