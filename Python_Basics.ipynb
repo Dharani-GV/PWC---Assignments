{
  "nbformat": 4,
  "nbformat_minor": 0,
  "metadata": {
    "colab": {
      "provenance": []
    },
    "kernelspec": {
      "name": "python3",
      "display_name": "Python 3"
    },
    "language_info": {
      "name": "python"
    }
  },
  "cells": [
    {
      "cell_type": "markdown",
      "source": [
        "1.What is Python, and why is it popular?\n",
        "\n",
        "-\n",
        "Python is a high-level, interpreted programming language known for its simplicity, readability, and versatility. It’s popular because of its wide range of applications, easy syntax, and large supportive community.\n",
        "\n"
      ],
      "metadata": {
        "id": "PTJ1Qncm3xef"
      }
    },
    {
      "cell_type": "markdown",
      "source": [
        "2.What is an interpreter in Python?\n",
        "-\n",
        "An interpreter executes Python code line by line, converting it into machine code and running it immediately, without the need for compilation."
      ],
      "metadata": {
        "id": "tregJuJx4n3k"
      }
    },
    {
      "cell_type": "markdown",
      "source": [
        "3.What are pre-defined keywords in Python?\n",
        "-\n",
        "Pre-defined keywords are reserved words in Python with special meanings, such as if, else, while, and class, that cannot be used as identifiers (variable names).\n",
        "\n"
      ],
      "metadata": {
        "id": "8iI_VP6X4y7D"
      }
    },
    {
      "cell_type": "markdown",
      "source": [
        "4. Can keywords be used as variable names?\n",
        " -\n",
        " No, keywords cannot be used as variable names in Python."
      ],
      "metadata": {
        "id": "XzY9JnJo48t0"
      }
    },
    {
      "cell_type": "markdown",
      "source": [
        "5.What is mutability in Python?\n",
        "-\n",
        "Mutability refers to whether an object’s state can be changed after it is created. Mutable objects can be modified, while immutable objects cannot.\n",
        "\n"
      ],
      "metadata": {
        "id": "GB8V9hTF5JKJ"
      }
    },
    {
      "cell_type": "markdown",
      "source": [
        "6. Why are lists mutable, but tuples are immutable?\n",
        "   -\n",
        "   Lists are mutable because they are designed to allow modifications, while tuples are immutable to provide a stable, unchangeable collection."
      ],
      "metadata": {
        "id": "Rmc_L12i5Q6u"
      }
    },
    {
      "cell_type": "markdown",
      "source": [
        "\n",
        "7. What is the difference between “==” and “is” operators in Python?\n",
        "   -\n",
        "   == checks if the values of two objects are equal, while is checks if they refer to the same object in memory."
      ],
      "metadata": {
        "id": "lDxsKHM75WNL"
      }
    },
    {
      "cell_type": "markdown",
      "source": [
        "8. What are logical operators in Python?\n",
        "   -\n",
        "   Logical operators are and, or, and not, used to combine boolean expressions.   "
      ],
      "metadata": {
        "id": "IcQ8fqWm5d-A"
      }
    },
    {
      "cell_type": "markdown",
      "source": [
        "9. What is type casting in Python?\n",
        "   -\n",
        "   Type casting is converting one data type to another, like from an integer to a string or vice versa."
      ],
      "metadata": {
        "id": "nDvhKpVH5lif"
      }
    },
    {
      "cell_type": "markdown",
      "source": [
        "10. What is the difference between implicit and explicit type casting?\n",
        "    -\n",
        "    Implicit casting (automatic) is done by Python (e.g., converting integers to floats in expressions).\n",
        "\n",
        "    -\n",
        "    Explicit casting (manual) is done by the programmer using functions like int(), float(), etc."
      ],
      "metadata": {
        "id": "K5IA04bV5qW4"
      }
    },
    {
      "cell_type": "markdown",
      "source": [
        "11. What is the purpose of conditional statements in Python?\n",
        "    -\n",
        "    Conditional statements (if, elif, else) allow the program to execute different blocks of code based on certain conditions."
      ],
      "metadata": {
        "id": "2VLt-fvI5zq6"
      }
    },
    {
      "cell_type": "markdown",
      "source": [
        "12. How does the elif statement work?\n",
        "   -\n",
        "   elif stands for \"else if\" and is used to check additional conditions if the previous if or elif statements are false."
      ],
      "metadata": {
        "id": "mZhBWCYt56ul"
      }
    },
    {
      "cell_type": "markdown",
      "source": [
        "13. What is the difference between for and while loops?\n",
        "    -\n",
        "    For loops iterate over a sequence (e.g., list, range).\n",
        "\n",
        "    -\n",
        "    While loops execute as long as a given condition is true."
      ],
      "metadata": {
        "id": "gfdzSQCr6FTd"
      }
    },
    {
      "cell_type": "markdown",
      "source": [
        "14. Describe a scenario where a while loop is more suitable than a for loop.\n",
        "    -\n",
        "    A while loop is better when you don’t know how many times a condition will be true. For example, waiting for user input or until a specific event occurs."
      ],
      "metadata": {
        "id": "E7rcpssl6OCN"
      }
    },
    {
      "cell_type": "markdown",
      "source": [
        "#Practical Questions"
      ],
      "metadata": {
        "id": "bXn92LdR6ljs"
      }
    },
    {
      "cell_type": "code",
      "source": [
        "# 1. Write a Python program to print \"Hello, World!\"\n",
        "print(\"Hello, World!\")"
      ],
      "metadata": {
        "colab": {
          "base_uri": "https://localhost:8080/"
        },
        "id": "TcVArUYR7hWb",
        "outputId": "7536e357-001a-4bc0-9ac5-112c9abaa362"
      },
      "execution_count": 2,
      "outputs": [
        {
          "output_type": "stream",
          "name": "stdout",
          "text": [
            "Hello, World!\n"
          ]
        }
      ]
    },
    {
      "cell_type": "code",
      "source": [
        "# 2. Write a Python program that displays your name and age\n",
        "name = \"Dharani\"\n",
        "age = 25\n",
        "print(\"Name:\", name)\n",
        "print(\"Age:\", age)"
      ],
      "metadata": {
        "colab": {
          "base_uri": "https://localhost:8080/"
        },
        "id": "KMWqHYeJ7oJY",
        "outputId": "4b15d826-97d0-4496-9002-40c4eae51e22"
      },
      "execution_count": 3,
      "outputs": [
        {
          "output_type": "stream",
          "name": "stdout",
          "text": [
            "Name: Dharani\n",
            "Age: 25\n"
          ]
        }
      ]
    },
    {
      "cell_type": "code",
      "source": [
        "\n",
        "# 3. Write code to print all the pre-defined keywords in Python using the keyword library\n",
        "import keyword\n",
        "print(\"Python Keywords:\")\n",
        "print(keyword.kwlist)"
      ],
      "metadata": {
        "colab": {
          "base_uri": "https://localhost:8080/"
        },
        "id": "QfUy9Mwo7v2I",
        "outputId": "9d249f3b-99b8-4e99-aafd-7c58855474b1"
      },
      "execution_count": 5,
      "outputs": [
        {
          "output_type": "stream",
          "name": "stdout",
          "text": [
            "Python Keywords:\n",
            "['False', 'None', 'True', 'and', 'as', 'assert', 'async', 'await', 'break', 'class', 'continue', 'def', 'del', 'elif', 'else', 'except', 'finally', 'for', 'from', 'global', 'if', 'import', 'in', 'is', 'lambda', 'nonlocal', 'not', 'or', 'pass', 'raise', 'return', 'try', 'while', 'with', 'yield']\n"
          ]
        }
      ]
    },
    {
      "cell_type": "code",
      "source": [
        "# 4. Write a program that checks if a given word is a Python keyword.\n",
        "word = input(\"Enter a word to check if it's a Python keyword: \")\n",
        "if keyword.iskeyword(word):\n",
        "    print(f\"{word} is a Python keyword.\")\n",
        "else:\n",
        "    print(f\"{word} is not a Python keyword.\")"
      ],
      "metadata": {
        "colab": {
          "base_uri": "https://localhost:8080/"
        },
        "id": "1jjL7IYp7423",
        "outputId": "f94b9e91-0365-490c-ce03-91e7e8bddbf1"
      },
      "execution_count": 6,
      "outputs": [
        {
          "output_type": "stream",
          "name": "stdout",
          "text": [
            "Enter a word to check if it's a Python keyword: IS\n",
            "IS is not a Python keyword.\n"
          ]
        }
      ]
    },
    {
      "cell_type": "code",
      "source": [
        "# 5. Create a list and tuple in Python, and demonstrate how attempting to change an element works differently for each.\n",
        "my_list = [1, 2, 3]\n",
        "my_tuple = (1, 2, 3)\n",
        "\n",
        "print(\"Original list:\", my_list)\n",
        "my_list[0] = 100\n",
        "print(\"Modified list:\", my_list)\n",
        "\n",
        "print(\"Original tuple:\", my_tuple)\n",
        "try:\n",
        "    my_tuple[0] = 100  # This will raise an error\n",
        "except TypeError as e:\n",
        "    print(\"Error modifying tuple:\", e)"
      ],
      "metadata": {
        "colab": {
          "base_uri": "https://localhost:8080/"
        },
        "id": "8VR0qj2W7_tn",
        "outputId": "1252b58a-a6b6-48b6-d870-29c409aff1de"
      },
      "execution_count": 7,
      "outputs": [
        {
          "output_type": "stream",
          "name": "stdout",
          "text": [
            "Original list: [1, 2, 3]\n",
            "Modified list: [100, 2, 3]\n",
            "Original tuple: (1, 2, 3)\n",
            "Error modifying tuple: 'tuple' object does not support item assignment\n"
          ]
        }
      ]
    },
    {
      "cell_type": "code",
      "source": [
        "# 6. Write a function to demonstrate the behavior of mutable and immutable arguments.\n",
        "def modify_data(a_list, an_int):\n",
        "    a_list.append(4)\n",
        "    an_int += 1\n",
        "    print(\"Inside function - List:\", a_list)\n",
        "    print(\"Inside function - Int:\", an_int)\n",
        "\n",
        "my_list = [1, 2, 3]\n",
        "my_int = 10\n",
        "modify_data(my_list, my_int)\n",
        "print(\"Outside function - List:\", my_list)\n",
        "print(\"Outside function - Int:\", my_int)"
      ],
      "metadata": {
        "colab": {
          "base_uri": "https://localhost:8080/"
        },
        "id": "qk4ZiaPW8GcV",
        "outputId": "9a4397a3-ec1e-458e-a57b-245b0c6ee4e2"
      },
      "execution_count": 8,
      "outputs": [
        {
          "output_type": "stream",
          "name": "stdout",
          "text": [
            "Inside function - List: [1, 2, 3, 4]\n",
            "Inside function - Int: 11\n",
            "Outside function - List: [1, 2, 3, 4]\n",
            "Outside function - Int: 10\n"
          ]
        }
      ]
    },
    {
      "cell_type": "code",
      "source": [
        "# 7. Write a program that performs basic arithmetic operations on two user-input numbers.\n",
        "a = float(input(\"Enter first number: \"))\n",
        "b = float(input(\"Enter second number: \"))\n",
        "print(\"Addition:\", a + b)\n",
        "print(\"Subtraction:\", a - b)\n",
        "print(\"Multiplication:\", a * b)\n",
        "print(\"Division:\", a / b if b != 0 else \"Cannot divide by zero\")"
      ],
      "metadata": {
        "colab": {
          "base_uri": "https://localhost:8080/"
        },
        "id": "E6ajtMD28KvN",
        "outputId": "f1c4643c-fd13-4779-ce6c-b42afc40a433"
      },
      "execution_count": 9,
      "outputs": [
        {
          "output_type": "stream",
          "name": "stdout",
          "text": [
            "Enter first number: 1\n",
            "Enter second number: 2\n",
            "Addition: 3.0\n",
            "Subtraction: -1.0\n",
            "Multiplication: 2.0\n",
            "Division: 0.5\n"
          ]
        }
      ]
    },
    {
      "cell_type": "code",
      "source": [
        "# 8. Write a program to demonstrate the use of logical operators.\n",
        "x = int(input(\"Enter a number: \"))\n",
        "if x > 0 and x < 100:\n",
        "    print(\"The number is between 1 and 99.\")\n",
        "if x < 0 or x > 100:\n",
        "    print(\"The number is out of range.\")\n",
        "if not x == 50:\n",
        "    print(\"The number is not 50.\")"
      ],
      "metadata": {
        "colab": {
          "base_uri": "https://localhost:8080/"
        },
        "id": "W8EJQqdZ8PoP",
        "outputId": "15b36f39-f755-408a-de49-564276524596"
      },
      "execution_count": 10,
      "outputs": [
        {
          "output_type": "stream",
          "name": "stdout",
          "text": [
            "Enter a number: 1\n",
            "The number is between 1 and 99.\n",
            "The number is not 50.\n"
          ]
        }
      ]
    },
    {
      "cell_type": "code",
      "source": [
        "# 9. Write a Python program to convert user input from string to integer, float, and boolean types.\n",
        "user_input = input(\"Enter a value: \")\n",
        "print(\"As Integer:\", int(user_input))\n",
        "print(\"As Float:\", float(user_input))\n",
        "print(\"As Boolean:\", bool(user_input))\n"
      ],
      "metadata": {
        "colab": {
          "base_uri": "https://localhost:8080/"
        },
        "id": "SpEhICPJ8XJL",
        "outputId": "07132198-7217-45e3-88ba-9d174da8770f"
      },
      "execution_count": 11,
      "outputs": [
        {
          "output_type": "stream",
          "name": "stdout",
          "text": [
            "Enter a value: 1\n",
            "As Integer: 1\n",
            "As Float: 1.0\n",
            "As Boolean: True\n"
          ]
        }
      ]
    },
    {
      "cell_type": "code",
      "source": [
        "# 10. Write code to demonstrate type casting with list elements.\n",
        "string_list = [\"1\", \"2\", \"3\"]\n",
        "int_list = [int(i) for i in string_list]\n",
        "print(\"Original string list:\", string_list)\n",
        "print(\"Converted integer list:\", int_list)"
      ],
      "metadata": {
        "colab": {
          "base_uri": "https://localhost:8080/"
        },
        "id": "_OrsdyG88Z5-",
        "outputId": "a52f45d0-8e0a-439f-df7a-332821d1abcc"
      },
      "execution_count": 12,
      "outputs": [
        {
          "output_type": "stream",
          "name": "stdout",
          "text": [
            "Original string list: ['1', '2', '3']\n",
            "Converted integer list: [1, 2, 3]\n"
          ]
        }
      ]
    },
    {
      "cell_type": "code",
      "source": [
        "# 11. Write a program that checks if a number is positive, negative, or zero.\n",
        "num = float(input(\"Enter a number: \"))\n",
        "if num > 0:\n",
        "    print(\"Positive number\")\n",
        "elif num < 0:\n",
        "    print(\"Negative number\")\n",
        "else:\n",
        "    print(\"Zero\")"
      ],
      "metadata": {
        "colab": {
          "base_uri": "https://localhost:8080/"
        },
        "id": "v1tOEbPM8eYY",
        "outputId": "4e9608a4-2552-4dc3-a4a3-0cfd7e765699"
      },
      "execution_count": 13,
      "outputs": [
        {
          "output_type": "stream",
          "name": "stdout",
          "text": [
            "Enter a number: 1\n",
            "Positive number\n"
          ]
        }
      ]
    },
    {
      "cell_type": "code",
      "source": [
        "# 12. Write a for loop to print numbers from 1 to 10.\n",
        "for i in range(1, 11):\n",
        "    print(i)"
      ],
      "metadata": {
        "colab": {
          "base_uri": "https://localhost:8080/"
        },
        "id": "Xoh9FDUP8ip7",
        "outputId": "a4b423e1-ce9d-459d-b9f5-161d894659bb"
      },
      "execution_count": 14,
      "outputs": [
        {
          "output_type": "stream",
          "name": "stdout",
          "text": [
            "1\n",
            "2\n",
            "3\n",
            "4\n",
            "5\n",
            "6\n",
            "7\n",
            "8\n",
            "9\n",
            "10\n"
          ]
        }
      ]
    },
    {
      "cell_type": "code",
      "source": [
        "# 13. Write a Python program to find the sum of all even numbers between 1 and 50.\n",
        "even_sum = 0\n",
        "for i in range(1, 51):\n",
        "    if i % 2 == 0:\n",
        "        even_sum += i\n",
        "print(\"Sum of even numbers from 1 to 50 is:\", even_sum)"
      ],
      "metadata": {
        "colab": {
          "base_uri": "https://localhost:8080/"
        },
        "id": "Zw09Bj8A8mss",
        "outputId": "0627ad04-69f5-402a-bd78-b3c02e438a08"
      },
      "execution_count": 15,
      "outputs": [
        {
          "output_type": "stream",
          "name": "stdout",
          "text": [
            "Sum of even numbers from 1 to 50 is: 650\n"
          ]
        }
      ]
    },
    {
      "cell_type": "code",
      "source": [
        "# 14. Write a program to reverse a string using a while loop.\n",
        "s = input(\"Enter a string to reverse: \")\n",
        "reversed_str = \"\"\n",
        "i = len(s) - 1\n",
        "while i >= 0:\n",
        "    reversed_str += s[i]\n",
        "    i -= 1\n",
        "print(\"Reversed string:\", reversed_str)"
      ],
      "metadata": {
        "colab": {
          "base_uri": "https://localhost:8080/"
        },
        "id": "T5UgSvt_8psP",
        "outputId": "1a8ec799-03f7-445a-c258-a6555d271df3"
      },
      "execution_count": 16,
      "outputs": [
        {
          "output_type": "stream",
          "name": "stdout",
          "text": [
            "Enter a string to reverse: 1\n",
            "Reversed string: 1\n"
          ]
        }
      ]
    },
    {
      "cell_type": "code",
      "source": [
        "# 15. Write a Python program to calculate the factorial of a number provided by the user using a while loop.\n",
        "n = int(input(\"Enter a number to calculate factorial: \"))\n",
        "factorial = 1\n",
        "i = 1\n",
        "while i <= n:\n",
        "    factorial *= i\n",
        "    i += 1\n",
        "print(f\"Factorial of {n} is {factorial}\")"
      ],
      "metadata": {
        "id": "XnyfxWk08tpG"
      },
      "execution_count": null,
      "outputs": []
    }
  ]
}